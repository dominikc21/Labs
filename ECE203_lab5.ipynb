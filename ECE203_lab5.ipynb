{
 "cells": [
  {
   "cell_type": "code",
   "execution_count": 1,
   "metadata": {},
   "outputs": [],
   "source": [
    "import matplotlib.pyplot as plt\n",
    "import pandas as pd"
   ]
  },
  {
   "cell_type": "code",
   "execution_count": 5,
   "metadata": {},
   "outputs": [],
   "source": [
    "df = pd.read_excel(r'/Users/dominikculo/Downloads/ECE203_lab5.xlsx', usecols='A,B,C,D,F,G,H,J,K,L,N,O,P,Q,S,T')\n",
    "#RC rising 1\n",
    "RC_time = pd.DataFrame (df, columns=['RC_t']).dropna()\n",
    "RC_C1r1 = pd.DataFrame (df, columns=['RC_C1(rising_1)']).dropna()\n",
    "RC_C2r1 = pd.DataFrame (df, columns=['RC_C2(rising_1)']).dropna()\n",
    "RC_M1r1 = pd.DataFrame (df, columns=['RC_M1(rising_1)']).dropna()\n",
    "\n",
    "RC_C1f = pd.DataFrame (df, columns=['RC_C1(falling)']).dropna()\n",
    "RC_C2f = pd.DataFrame (df, columns=['RC_C2(falling)']).dropna()\n",
    "RC_M1f = pd.DataFrame (df, columns=['RC_M1(fallig)']).dropna()\n",
    "\n",
    "RC_C1r2 = pd.DataFrame (df, columns=['RC_C1(rising_2)']).dropna()\n",
    "RC_C2r2 = pd.DataFrame (df, columns=['RC_C2(rising_2)']).dropna()\n",
    "RC_M1r2 = pd.DataFrame (df, columns=['RC_M1(rising_2)']).dropna()\n",
    "\n",
    "RL_time = pd.DataFrame (df, columns=['RL_t']).dropna()\n",
    "RL_C1 = pd.DataFrame (df, columns=['RL_C1']).dropna()\n",
    "RL_C2 = pd.DataFrame (df, columns=['RL_C2']).dropna()\n",
    "RL_M1 = pd.DataFrame (df, columns=['RL_M1']).dropna()\n",
    "\n",
    "RLC_time = pd.DataFrame (df, columns=['RLC_t']).dropna()\n",
    "RLC_V = pd.DataFrame (df, columns=['RLC_V']).dropna()"
   ]
  },
  {
   "cell_type": "code",
   "execution_count": 7,
   "metadata": {},
   "outputs": [
    {
     "ename": "AttributeError",
     "evalue": "module 'matplotlib.pyplot' has no attribute 'xlog'",
     "output_type": "error",
     "traceback": [
      "\u001b[0;31m---------------------------------------------------------------------------\u001b[0m",
      "\u001b[0;31mAttributeError\u001b[0m                            Traceback (most recent call last)",
      "\u001b[0;32m<ipython-input-7-efe3c7ffabbd>\u001b[0m in \u001b[0;36m<module>\u001b[0;34m\u001b[0m\n\u001b[0;32m----> 1\u001b[0;31m \u001b[0mplt\u001b[0m\u001b[0;34m.\u001b[0m\u001b[0mxlog\u001b[0m\u001b[0;34m(\u001b[0m\u001b[0;34m)\u001b[0m\u001b[0;34m\u001b[0m\u001b[0;34m\u001b[0m\u001b[0m\n\u001b[0m\u001b[1;32m      2\u001b[0m \u001b[0mplt\u001b[0m\u001b[0;34m.\u001b[0m\u001b[0mplot\u001b[0m\u001b[0;34m(\u001b[0m\u001b[0mRC_time\u001b[0m\u001b[0;34m,\u001b[0m \u001b[0mRC_C1r1\u001b[0m\u001b[0;34m)\u001b[0m\u001b[0;34m\u001b[0m\u001b[0;34m\u001b[0m\u001b[0m\n",
      "\u001b[0;31mAttributeError\u001b[0m: module 'matplotlib.pyplot' has no attribute 'xlog'"
     ]
    }
   ],
   "source": [
    "plt.xlog()\n",
    "plt.plot(RC_time, RC_C1r1)"
   ]
  },
  {
   "cell_type": "code",
   "execution_count": null,
   "metadata": {},
   "outputs": [],
   "source": []
  }
 ],
 "metadata": {
  "kernelspec": {
   "display_name": "Python 3",
   "language": "python",
   "name": "python3"
  },
  "language_info": {
   "codemirror_mode": {
    "name": "ipython",
    "version": 3
   },
   "file_extension": ".py",
   "mimetype": "text/x-python",
   "name": "python",
   "nbconvert_exporter": "python",
   "pygments_lexer": "ipython3",
   "version": "3.8.5"
  }
 },
 "nbformat": 4,
 "nbformat_minor": 4
}
