{
 "cells": [
  {
   "cell_type": "code",
   "execution_count": 2,
   "metadata": {},
   "outputs": [],
   "source": [
    "import pandas as pd\n",
    "import numpy as np\n",
    "import matplotlib.pyplot as plt\n",
    "import math"
   ]
  },
  {
   "cell_type": "code",
   "execution_count": 3,
   "metadata": {},
   "outputs": [],
   "source": [
    "df = pd.read_excel(r'/Users/dominikculo/downloads/velocity_of_molecule.xlsx', usecols='A,B,C,D,E')\n",
    "m1 = pd.DataFrame (df, columns=['m1']).dropna()\n",
    "m2 = pd.DataFrame (df, columns=['m2']).dropna()\n",
    "m3 = pd.DataFrame (df, columns=['m3']).dropna()\n",
    "m4 = pd.DataFrame (df, columns=['m4']).dropna()\n",
    "m_open = pd.DataFrame (df, columns=['m_open']).dropna()"
   ]
  },
  {
   "cell_type": "code",
   "execution_count": 5,
   "metadata": {},
   "outputs": [
    {
     "name": "stdout",
     "output_type": "stream",
     "text": [
      "[0.0056]\n",
      "0.007076270203998748\n"
     ]
    }
   ],
   "source": [
    "m1 = np.array(m1)\n",
    "m2 = np.array(m2)\n",
    "m3 = np.array(m3)\n",
    "m4 = np.array(m4)\n",
    "m_open = np.array(m_open)\n",
    "\n",
    "m1_err = math.sqrt((np.std(m1)/len(m1))**2 + 0.001**2)\n",
    "m2_err = math.sqrt((np.std(m2)/len(m2))**2 + 0.001**2)\n",
    "m3_err = math.sqrt((np.std(m3)/len(m3))**2 + 0.001**2)\n",
    "m4_err = math.sqrt((np.std(m4)/len(m4))**2 + 0.001**2)\n",
    "m_open_err = math.sqrt((np.std(m_open)/len(m_open))**2 + 0.001**2)\n",
    "\n",
    "m_lid = [m1[i] - m2[i] for i in range(len(m1))]\n",
    "m_lid_err = math.sqrt(m1_err**2 + m2_err**2)\n",
    "\n",
    "m_LL = [m3[i] - m4[i] for i in range(len(m3))]\n",
    "m_LL_err = math.sqrt(m3_err**2 + m4_err**2)\n",
    "\n",
    "time = np.linspace(0, 300, 11)\n",
    "\n",
    "#this isn't proper, but it gives the same value as the proper way, so I'll leave it\n",
    "delta_m_list = [m_lid[i] - m_LL[i] for i in range(len(m_lid))]\n",
    "delta_m = sum(delta_m_list)/len(delta_m_list)\n",
    "print(delta_m)\n",
    "delta_m_err = math.sqrt(m_LL_err**2 + m_lid_err**2)\n",
    "print(delta_m_err)"
   ]
  },
  {
   "cell_type": "code",
   "execution_count": null,
   "metadata": {},
   "outputs": [],
   "source": [
    "def least_squares(x, y, sig_y, sig_x=0.25):\n",
    "    N = len(x)\n",
    "    sum_x = sum(x)\n",
    "    sum_x2 = sum([x[i]**2 for i in range(len(x))])\n",
    "    sum_y = sum(y)\n",
    "    sum_xy = sum([x[i] * y[i] for i in range(len(x))])\n",
    "    \n",
    "    delta = N * sum_x2 - sum_x**2\n",
    "    A = (sum_x2 * sum_y - sum_x * sum_xy)/delta\n",
    "    B = (N * sum_xy - sum_x * sum_y)/delta\n",
    "    \n",
    "    ysig = math.sqrt(abs((1/(1 - N)) * sum([(y[i] - A - B * x[i])**2 for i in range(len(x))])))\n",
    "    A_sig = ysig * math.sqrt(sum_x2/delta)\n",
    "    B_sig = ysig * math.sqrt(N/delta)\n",
    "    \n",
    "    print(ysig)\n",
    "    \n",
    "    return A, B, A_sig, B_sig\n",
    "\n",
    "A, B, A_err, B_err = least_squares(time, m_open, m_open_err)\n",
    "print(A, B, A_err, B_err)"
   ]
  },
  {
   "cell_type": "code",
   "execution_count": null,
   "metadata": {},
   "outputs": [],
   "source": [
    "mean_vel = (2 * delta_m * 9.81)/abs(B)\n",
    "mean_vel_err = 2* 9.81 * math.sqrt((B_err/B)**2 + (delta_m_err/delta_m)**2)\n",
    "\n",
    "print(float(mean_vel), '+/-', mean_vel_err)"
   ]
  },
  {
   "cell_type": "code",
   "execution_count": null,
   "metadata": {},
   "outputs": [],
   "source": [
    "y_err = math.sqrt(m_open_err**2 + (B**2 * 0.25**2))\n",
    "\n",
    "plt.plot(time, [A + B * time[i] for i in range(len(time))])\n",
    "for i in range(len(time)):\n",
    "    plt.errorbar(time[i], m_open[i], marker='o', color='black', yerr=y_err)\n",
    "    \n",
    "plt.title('Change in mass over time')\n",
    "plt.xlabel('time(s)')\n",
    "plt.ylabel('mass(g)')\n",
    "\n",
    "plt.savefig('mean_velocity_plot', bbox_inches='tight')"
   ]
  },
  {
   "cell_type": "code",
   "execution_count": null,
   "metadata": {},
   "outputs": [],
   "source": []
  }
 ],
 "metadata": {
  "kernelspec": {
   "display_name": "Python 3",
   "language": "python",
   "name": "python3"
  },
  "language_info": {
   "codemirror_mode": {
    "name": "ipython",
    "version": 3
   },
   "file_extension": ".py",
   "mimetype": "text/x-python",
   "name": "python",
   "nbconvert_exporter": "python",
   "pygments_lexer": "ipython3",
   "version": "3.8.5"
  }
 },
 "nbformat": 4,
 "nbformat_minor": 4
}
