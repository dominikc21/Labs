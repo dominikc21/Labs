{
 "cells": [
  {
   "cell_type": "code",
   "execution_count": 67,
   "metadata": {},
   "outputs": [],
   "source": [
    "import pandas as pd\n",
    "import numpy as np\n",
    "import matplotlib.pyplot as plt\n",
    "import math"
   ]
  },
  {
   "cell_type": "code",
   "execution_count": 68,
   "metadata": {},
   "outputs": [],
   "source": [
    "df = pd.read_excel(r'/Users/dominikculo/downloads/phys292_bubble_chamber.xlsx', usecols='A')\n",
    "radii = pd.DataFrame (df, columns=(['radius(cm)']))\n",
    "r = np.array(radii)\n",
    "radii = np.array([x/100 for x in r])\n",
    "sig_radii = np.std(radii)/math.sqrt(len(radii))"
   ]
  },
  {
   "cell_type": "code",
   "execution_count": 69,
   "metadata": {},
   "outputs": [],
   "source": [
    "c = 3e8\n",
    "B = 1.277\n",
    "\n",
    "# interaction 1\n",
    "R_initial = radii.sum()/len(radii)\n",
    "R_proton = 0.50\n",
    "R_pion = 2.30\n",
    "\n",
    "theta_proton = 76 * (2 * math.pi / 360)\n",
    "theta_pion = 15 * (2 * math.pi / 360)\n",
    "\n",
    "#interaction 2 (currently not being used)\n",
    "R_proton = 0.9\n",
    "R_pion = 0.5\n",
    "theta_proton = 24 * (2 * math.pi / 360)\n",
    "theta_pion = 19 * (2 * math.pi / 360)"
   ]
  },
  {
   "cell_type": "code",
   "execution_count": 70,
   "metadata": {},
   "outputs": [
    {
     "name": "stdout",
     "output_type": "stream",
     "text": [
      "0.03771604433129221\n",
      "0.043228590945408485 34360484.64802571\n"
     ]
    }
   ],
   "source": [
    "#errors\n",
    "sig_B = B * math.sqrt((sig_radii/R_initial)**2 + 0.03**2)\n",
    "print(sig_radii)\n",
    "\n",
    "sig_p_initial = p_initial[0] * math.sqrt((sig_B/B)**2 + (sig_radii/R_initial)**2)\n",
    "print(sig_B, sig_p_initial)\n",
    "\n",
    "#one degree in radians\n",
    "one_deg = 2 * math.pi / 360\n",
    "\n",
    "sig_cos_proton = math.sin(theta_proton) * one_deg\n",
    "sig_sin_proton = math.cos(theta_proton) * one_deg\n",
    "sig_cos_pion = math.sin(theta_pion) * one_deg\n",
    "sig_sin_pion = math.sin(theta_pion) * one_deg"
   ]
  },
  {
   "cell_type": "code",
   "execution_count": 71,
   "metadata": {},
   "outputs": [
    {
     "name": "stdout",
     "output_type": "stream",
     "text": [
      "net_p [496095421.49664146, -77876147.17983678, 0]\n",
      "pion x direction 181.11408315604913 +/- 54.77045457340588\n",
      "pion y direction 62.362579986268365 +/- 18.886644749490355\n",
      "proton x direction 314.98133834059234 +/- 98.04793816894399\n",
      "proton y direction -140.23872716610515 +/- -43.98505211869363\n"
     ]
    }
   ],
   "source": [
    "p_initial = [921e6, 0, 0]\n",
    "p_proton = [R_proton * B * c * math.cos(theta_proton), -R_proton * B * c * math.sin(theta_proton), 0]\n",
    "p_pion = [R_pion * B * c * math.cos(theta_pion), R_pion * B * c * math.sin(theta_pion), 0]\n",
    "\n",
    "net_p = [p_proton[x] + p_pion[x] for x in range(len(p_proton))]\n",
    "print(\"net_p\", net_p)\n",
    "\n",
    "sig_p_proton_x = p_proton[0] * math.sqrt(0.3**2 + (sig_B/B)**2 + (sig_radii/0.5)**2 + (sig_cos_proton/math.cos(theta_proton))**2)\n",
    "sig_p_proton_y = p_proton[1] * math.sqrt(0.3**2 + (sig_B/B)**2 + (sig_radii/0.5)**2 + (sig_sin_proton/math.sin(theta_proton))**2)\n",
    "sig_p_pion_x = p_pion[0] * math.sqrt(0.3**2 + (sig_B/B)**2 + (sig_radii/2.3)**2 + (sig_cos_pion/math.cos(theta_pion))**2)\n",
    "sig_p_pion_y = p_pion[1] * math.sqrt(0.3**2 + (sig_B/B)**2 + (sig_radii/2.3)**2 + (sig_sin_pion/math.sin(theta_pion))**2)\n",
    "\n",
    "print(\"pion x direction\", p_pion[0]/1e6, \"+/-\", sig_p_pion_x/1e6)\n",
    "print(\"pion y direction\", p_pion[1]/1e6, \"+/-\", sig_p_pion_y/1e6)\n",
    "print(\"proton x direction\", p_proton[0]/1e6, \"+/-\", sig_p_proton_x/1e6)\n",
    "print(\"proton y direction\", p_proton[1]/1e6, \"+/-\", sig_p_proton_y/1e6)"
   ]
  },
  {
   "cell_type": "code",
   "execution_count": 72,
   "metadata": {},
   "outputs": [
    {
     "name": "stdout",
     "output_type": "stream",
     "text": [
      "Post Collision\n",
      "x-direction 496.09542149664145 +/- 112.30850757337389\n",
      "y_direction -77.87614717983678 +/- 47.86846728043051\n"
     ]
    }
   ],
   "source": [
    "#conservation of momentum (sums are after collision)\n",
    "sum_x_dir = p_proton[0] + p_pion[0]\n",
    "sum_y_dir = p_proton[1] + p_pion[1]\n",
    "\n",
    "sig_x = math.sqrt(sig_p_proton_x**2 + sig_p_pion_x**2)\n",
    "sig_y = math.sqrt(sig_p_proton_y**2 + sig_p_pion_y**2)\n",
    "\n",
    "print(\"Post Collision\")\n",
    "print(\"x-direction\", sum_x_dir/1e6, \"+/-\", sig_x/1e6)\n",
    "print(\"y_direction\", sum_y_dir/1e6, \"+/-\", sig_y/1e6)"
   ]
  },
  {
   "cell_type": "code",
   "execution_count": null,
   "metadata": {},
   "outputs": [],
   "source": []
  }
 ],
 "metadata": {
  "kernelspec": {
   "display_name": "Python 3",
   "language": "python",
   "name": "python3"
  },
  "language_info": {
   "codemirror_mode": {
    "name": "ipython",
    "version": 3
   },
   "file_extension": ".py",
   "mimetype": "text/x-python",
   "name": "python",
   "nbconvert_exporter": "python",
   "pygments_lexer": "ipython3",
   "version": "3.8.5"
  }
 },
 "nbformat": 4,
 "nbformat_minor": 4
}
